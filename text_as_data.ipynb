{
  "nbformat": 4,
  "nbformat_minor": 0,
  "metadata": {
    "colab": {
      "name": "text_as_data.ipynb",
      "provenance": [],
      "authorship_tag": "ABX9TyPRKctWYysdrV10wJhOwpcJ",
      "include_colab_link": true
    },
    "kernelspec": {
      "name": "python3",
      "display_name": "Python 3"
    }
  },
  "cells": [
    {
      "cell_type": "markdown",
      "metadata": {
        "id": "view-in-github",
        "colab_type": "text"
      },
      "source": [
        "<a href=\"https://colab.research.google.com/github/placeasmedia/text_classification/blob/master/text_as_data.ipynb\" target=\"_parent\"><img src=\"https://colab.research.google.com/assets/colab-badge.svg\" alt=\"Open In Colab\"/></a>"
      ]
    },
    {
      "cell_type": "markdown",
      "metadata": {
        "id": "rF3r5A5qA9ph",
        "colab_type": "text"
      },
      "source": [
        "## Import dependencies\n"
      ]
    },
    {
      "cell_type": "code",
      "metadata": {
        "id": "LlTWesLXBGBd",
        "colab_type": "code",
        "colab": {}
      },
      "source": [
        "import numpy as np\n",
        "import pandas as pd\n",
        "\n",
        "from pathlib import Path\n",
        "from typing import *\n",
        "\n",
        "import torch\n",
        "import torch.optim as optim\n",
        "\n",
        "from fastai import *\n",
        "from fastai.vision import *\n",
        "from fastai.text import *\n",
        "from fastai.callbacks import *"
      ],
      "execution_count": 4,
      "outputs": []
    },
    {
      "cell_type": "markdown",
      "metadata": {
        "id": "WCF6odl1BLBY",
        "colab_type": "text"
      },
      "source": [
        "# Load data"
      ]
    },
    {
      "cell_type": "code",
      "metadata": {
        "id": "Y5ZiJYdIBTXM",
        "colab_type": "code",
        "colab": {}
      },
      "source": [
        "def load_data(filename):\n",
        "    df = pd.read_csv(filename)\n",
        "    selected = ['text']\n",
        "    non_selected = list(set(df.columns) - set(selected))\n",
        "\n",
        "    df = df.drop(non_selected, axis=1)\n",
        "    df = df.dropna(axis=0, how='any', subset=selected)\n",
        "    df = df.reindex(np.random.permutation(df.index))\n",
        "\n",
        "#     labels = df[selected[0]].tolist()\n",
        "\n",
        "#     x_raw= df[selected[0]].apply(lambda x: seg_char(x).split(' ')).tolist() \n",
        "    x_raw= df[selected[0]]\n",
        "\n",
        "    return x_raw"
      ],
      "execution_count": 5,
      "outputs": []
    },
    {
      "cell_type": "markdown",
      "metadata": {
        "id": "19l3SIhfBlA5",
        "colab_type": "text"
      },
      "source": [
        "# local data directory"
      ]
    },
    {
      "cell_type": "code",
      "metadata": {
        "id": "tGdfej5iBoSr",
        "colab_type": "code",
        "colab": {
          "base_uri": "https://localhost:8080/",
          "height": 34
        },
        "outputId": "e6eb855b-5c33-4210-c0ef-63e0473db845"
      },
      "source": [
        "!ls\n",
        "# X1 = load_data(\"./censored_weiboscope.csv\")\n",
        "# X2 = load_data(\"./uncensored_weiboscope.csv\")\n",
        "# Y1 = np.ones(len(X1), dtype=int)\n",
        "# Y2 = np.zeros(len(X2), dtype=int)\n",
        "# df1 = pd.DataFrame(X1)\n",
        "# df2 = pd.DataFrame(X2)\n",
        "# df = pd.concat([df1, df2])\n",
        "# X = np.array(df)\n",
        "# y = np.concatenate((Y1, Y2))\n",
        "# df['label'] = y\n"
      ],
      "execution_count": 9,
      "outputs": [
        {
          "output_type": "stream",
          "text": [
            "sample_data\n"
          ],
          "name": "stdout"
        }
      ]
    }
  ]
}